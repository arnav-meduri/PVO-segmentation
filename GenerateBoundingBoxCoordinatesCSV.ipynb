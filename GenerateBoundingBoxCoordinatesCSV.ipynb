{
  "nbformat": 4,
  "nbformat_minor": 0,
  "metadata": {
    "colab": {
      "provenance": [],
      "authorship_tag": "ABX9TyNGSovsVLbwYrzbxT0bJwCq",
      "include_colab_link": true
    },
    "kernelspec": {
      "name": "python3",
      "display_name": "Python 3"
    },
    "language_info": {
      "name": "python"
    }
  },
  "cells": [
    {
      "cell_type": "markdown",
      "metadata": {
        "id": "view-in-github",
        "colab_type": "text"
      },
      "source": [
        "<a href=\"https://colab.research.google.com/github/arnav-meduri/PVO-segmentation/blob/main/GenerateBoundingBoxCoordinatesCSV.ipynb\" target=\"_parent\"><img src=\"https://colab.research.google.com/assets/colab-badge.svg\" alt=\"Open In Colab\"/></a>"
      ]
    },
    {
      "cell_type": "code",
      "source": [
        "! pip install opencv-python\n",
        "! pip install numpy\n",
        "from PIL import Image, ImageDraw\n",
        "import os\n",
        "import pandas as pd\n",
        "\n",
        "from google.colab import drive\n",
        "drive.mount('/content/drive', force_remount=True)"
      ],
      "metadata": {
        "colab": {
          "base_uri": "https://localhost:8080/"
        },
        "id": "0hhFGx6D1Z1q",
        "outputId": "4f357137-ac2c-4d4f-fb73-c92ba7641aac"
      },
      "execution_count": 1,
      "outputs": [
        {
          "output_type": "stream",
          "name": "stdout",
          "text": [
            "Requirement already satisfied: opencv-python in /usr/local/lib/python3.10/dist-packages (4.8.0.76)\n",
            "Requirement already satisfied: numpy>=1.21.2 in /usr/local/lib/python3.10/dist-packages (from opencv-python) (1.23.5)\n",
            "Requirement already satisfied: numpy in /usr/local/lib/python3.10/dist-packages (1.23.5)\n",
            "Mounted at /content/drive\n"
          ]
        }
      ]
    },
    {
      "cell_type": "code",
      "source": [
        "! mkdir -p /content/Masked_Images\n",
        "#orig_folder = \"/content/drive/MyDrive/RCompSci/Normalized_Images/jul20/original/\"\n",
        "masked_folder = \"/content/drive/.shortcut-targets-by-id/1Gd6Qvx67HvZr5HE48UMhRc2vhUfBl1Jh/PVO_Segmentation_Project/Processed_Images/jul29/BB_Annotated_Masked_Gray_Downsampled_ALL/\"\n",
        "!ls \"$masked_folder\"\n",
        "#!cp \"$masked_folder\"/*.png /content/Masked_Images/"
      ],
      "metadata": {
        "colab": {
          "base_uri": "https://localhost:8080/"
        },
        "id": "BtkcvfpU1yy2",
        "outputId": "866d2954-515a-4319-ebbe-c364a5d92281"
      },
      "execution_count": 4,
      "outputs": [
        {
          "output_type": "stream",
          "name": "stdout",
          "text": [
            "'152 OD-1.png'\t'24 OS-2.png'\t'2 OS-4.png'\t'45 OS-3.png'\t'694 OS-5.png'\n",
            "'152 OD-2.png'\t'24 OS-3.png'\t'2 OS-5.png'\t'45 OS-4.png'\t'934 OD-1.png'\n",
            "'152 OD-3.png'\t'24 OS-4.png'\t'319 OD-3.png'\t'45 OS-5.png'\t'934 OD-2.png'\n",
            "'152 OD-4.png'\t'24 OS-5.png'\t'352 OS-1.png'\t'480 OD-1.png'\t'934 OD-3.png'\n",
            "'152 OD-5.png'\t'261 OD-1.png'\t'352 OS-4.png'\t'480 OD-3.png'\t'934 OD-5.png'\n",
            "'1 OS-1.png'\t'261 OD-2.png'\t'357 OD-1.png'\t'480 OD-4.png'\t'966 OD-1.png'\n",
            "'1 OS-4.png'\t'261 OD-3.png'\t'357 OD-3.png'\t'480 OD-5.png'\t'966 OD-2.png'\n",
            "'223 OS-1.png'\t'261 OD-5.png'\t'357 OD-4.png'\t'483 OS-2.png'\t'966 OD-3.png'\n",
            "'223 OS-2.png'\t'267 OS-1.png'\t'399 OD-1.png'\t'483 OS-5.png'\t'966 OD-4.png'\n",
            "'223 OS-3.png'\t'267 OS-3.png'\t'399 OD-2.png'\t'5 OS-2.png'\t'966 OD-5.png'\n",
            "'223 OS-4.png'\t'267 OS-4.png'\t'399 OD-3.png'\t'690 OS-1.png'\t'996 OS-3.png'\n",
            "'223 OS-5.png'\t'275 OD-3.png'\t'399 OD-4.png'\t'694 OS-1.png'\n",
            "'240 OD-4.png'\t'275 OD-5.png'\t'399 OD-5.png'\t'694 OS-2.png'\n",
            "'240 OD-5.png'\t'2 OS-1.png'\t'45 OS-1.png'\t'694 OS-3.png'\n",
            "'24 OS-1.png'\t'2 OS-2.png'\t'45 OS-2.png'\t'694 OS-4.png'\n"
          ]
        }
      ]
    },
    {
      "cell_type": "code",
      "execution_count": 10,
      "metadata": {
        "colab": {
          "base_uri": "https://localhost:8080/"
        },
        "id": "XR6HCwyq1Gz1",
        "outputId": "bdd3b468-ac4d-469f-903f-fbd3474d7657"
      },
      "outputs": [
        {
          "output_type": "stream",
          "name": "stdout",
          "text": [
            "filename=24 OS-3.png, count=1, coord=[array([378,  40,   8,  14, 112], dtype=int32)]\n",
            "filename=24 OS-2.png, count=1, coord=[array([242, 138,   8,  16, 128], dtype=int32)]\n",
            "filename=24 OS-1.png, count=3, coord=[array([207,  41,   8,  14, 112], dtype=int32), array([322,  43,  13,  20, 260], dtype=int32), array([238, 113,   8,  16, 128], dtype=int32)]\n",
            "filename=24 OS-5.png, count=3, coord=[array([52, 52,  6, 11, 66], dtype=int32), array([293, 114,   6,  13,  78], dtype=int32), array([304, 123,   7,  12,  84], dtype=int32)]\n",
            "filename=24 OS-4.png, count=3, coord=[array([477,   5,   7,  14,  98], dtype=int32), array([228,  46,   8,  12,  96], dtype=int32), array([397, 100,   8,  14, 112], dtype=int32)]\n",
            "filename=45 OS-1.png, count=39, coord=[array([181,   1,   6,  12,  72], dtype=int32), array([350,   1,   8,  14, 112], dtype=int32), array([121,   2,   7,  12,  84], dtype=int32), array([394,   7,   8,  12,  96], dtype=int32), array([10, 10,  7, 12, 84], dtype=int32), array([248,  28,   9,  12, 108], dtype=int32), array([266,  34,   7,  12,  84], dtype=int32), array([118,  47,   6,  10,  60], dtype=int32), array([221,  52,   7,  11,  77], dtype=int32), array([127,  54,   7,  12,  84], dtype=int32), array([194,  54,   8,  11,  88], dtype=int32), array([ 95,  62,  12,  17, 204], dtype=int32), array([363,  62,   6,  12,  72], dtype=int32), array([273,  63,   9,  11,  99], dtype=int32), array([297,  65,   5,  10,  50], dtype=int32), array([220,  70,   8,  11,  88], dtype=int32), array([ 51,  73,   8,  13, 104], dtype=int32), array([189,  73,   9,  11,  99], dtype=int32), array([29, 75,  6, 11, 66], dtype=int32), array([277,  83,   8,  11,  88], dtype=int32), array([292,  87,   7,  12,  84], dtype=int32), array([320,  87,  10,  11, 110], dtype=int32), array([130,  88,   7,  16, 112], dtype=int32), array([116,  90,   6,  13,  78], dtype=int32), array([ 76, 108,   7,  14,  98], dtype=int32), array([199, 114,   8,  15, 120], dtype=int32), array([162, 121,   9,  13, 117], dtype=int32), array([291, 121,   8,  12,  96], dtype=int32), array([355, 123,   8,  12,  96], dtype=int32), array([  0, 125,   8,  15, 120], dtype=int32), array([375, 137,   8,  12,  96], dtype=int32), array([136, 142,   6,  11,  66], dtype=int32), array([ 69, 143,   7,  12,  84], dtype=int32), array([111, 148,   8,  10,  80], dtype=int32), array([276, 150,   9,  12, 108], dtype=int32), array([224, 164,   8,  12,  96], dtype=int32), array([362, 164,   7,  14,  98], dtype=int32), array([206, 165,   9,  11,  99], dtype=int32), array([ 98, 174,   6,  11,  66], dtype=int32)]\n",
            "filename=357 OD-4.png, count=2, coord=[array([  3, 156,   8,  12,  96], dtype=int32), array([181, 162,   8,  12,  96], dtype=int32)]\n",
            "filename=357 OD-3.png, count=1, coord=[array([ 68,   8,   8,  13, 104], dtype=int32)]\n",
            "filename=45 OS-4.png, count=43, coord=[array([296,   0,   9,  13, 117], dtype=int32), array([367,   5,   7,  10,  70], dtype=int32), array([149,   6,   8,  12,  96], dtype=int32), array([ 56,  11,  11,  15, 165], dtype=int32), array([130,  11,   8,  13, 104], dtype=int32), array([251,  18,   6,  12,  72], dtype=int32), array([83, 19,  8, 12, 96], dtype=int32), array([115,  19,   8,  12,  96], dtype=int32), array([381,  19,   7,  12,  84], dtype=int32), array([44, 30,  8, 12, 96], dtype=int32), array([151,  33,   6,  10,  60], dtype=int32), array([159,  37,   8,  12,  96], dtype=int32), array([199,  41,   9,  12, 108], dtype=int32), array([229,  41,   9,  12, 108], dtype=int32), array([ 1, 43,  6, 11, 66], dtype=int32), array([272,  43,   7,  12,  84], dtype=int32), array([186,  45,  10,  12, 120], dtype=int32), array([407,  45,   7,  13,  91], dtype=int32), array([418,  45,   9,  12, 108], dtype=int32), array([352,  50,   6,  11,  66], dtype=int32), array([115,  52,   8,  12,  96], dtype=int32), array([395,  52,  10,  12, 120], dtype=int32), array([104,  58,   7,  11,  77], dtype=int32), array([164,  60,   8,  10,  80], dtype=int32), array([153,  64,  10,  12, 120], dtype=int32), array([ 82,  72,  10,  12, 120], dtype=int32), array([15, 78,  6, 11, 66], dtype=int32), array([191,  81,   7,  12,  84], dtype=int32), array([213,  83,  10,  12, 120], dtype=int32), array([95, 87,  6, 11, 66], dtype=int32), array([385,  97,   6,  11,  66], dtype=int32), array([ 64, 101,   6,  11,  66], dtype=int32), array([370, 101,   8,  12,  96], dtype=int32), array([ 33, 107,   7,  11,  77], dtype=int32), array([149, 117,   8,  14, 112], dtype=int32), array([330, 117,   9,  14, 126], dtype=int32), array([253, 118,   7,  12,  84], dtype=int32), array([ 32, 130,  10,  12, 120], dtype=int32), array([292, 139,   9,  13, 117], dtype=int32), array([ 67, 155,   9,  13, 117], dtype=int32), array([259, 161,   8,  12,  96], dtype=int32), array([ 35, 181,   9,  13, 117], dtype=int32), array([454, 187,   6,  12,  72], dtype=int32)]\n",
            "filename=45 OS-2.png, count=26, coord=[array([64,  4,  7,  9, 63], dtype=int32), array([23,  8,  7, 11, 77], dtype=int32), array([113,   8,   7,  11,  77], dtype=int32), array([229,  15,   6,  11,  66], dtype=int32), array([180,  20,   7,  12,  84], dtype=int32), array([325,  22,  11,  15, 165], dtype=int32), array([350,  30,   6,   9,  54], dtype=int32), array([18, 32,  7, 10, 70], dtype=int32), array([271,  38,   7,  11,  77], dtype=int32), array([134,  43,   7,  11,  77], dtype=int32), array([50, 54,  7, 10, 70], dtype=int32), array([154,  54,   7,  10,  70], dtype=int32), array([120,  60,   7,  11,  77], dtype=int32), array([332,  72,   7,  10,  70], dtype=int32), array([344,  93,   7,  10,  70], dtype=int32), array([20, 94,  6, 10, 60], dtype=int32), array([ 27,  97,  11,  21, 231], dtype=int32), array([198, 103,   7,  12,  84], dtype=int32), array([285, 103,   7,  11,  77], dtype=int32), array([218, 111,   7,  11,  77], dtype=int32), array([380, 118,   7,   9,  63], dtype=int32), array([314, 121,   7,   9,  63], dtype=int32), array([250, 128,   6,  11,  66], dtype=int32), array([137, 165,   7,  11,  77], dtype=int32), array([283, 165,   9,  14, 126], dtype=int32), array([ 16, 188,   6,  11,  66], dtype=int32)]\n",
            "filename=357 OD-1.png, count=1, coord=[array([265, 112,   9,  15, 135], dtype=int32)]\n",
            "filename=690 OS-1.png, count=1, coord=[array([362, 138,   9,  14, 126], dtype=int32)]\n",
            "filename=45 OS-5.png, count=13, coord=[array([199,  14,   8,  13, 104], dtype=int32), array([ 8, 21,  8, 11, 88], dtype=int32), array([ 47,  21,  13,  21, 273], dtype=int32), array([31, 31,  7, 11, 77], dtype=int32), array([106,  33,   8,  12,  96], dtype=int32), array([ 10,  62,   8,  13, 104], dtype=int32), array([45, 62,  7, 11, 77], dtype=int32), array([92, 73,  7, 11, 77], dtype=int32), array([27, 98,  7, 10, 70], dtype=int32), array([ 18, 116,  13,  16, 208], dtype=int32), array([141, 126,   8,  13, 104], dtype=int32), array([ 66, 128,   7,  11,  77], dtype=int32), array([ 14, 133,   7,  11,  77], dtype=int32)]\n",
            "filename=45 OS-3.png, count=36, coord=[array([202,   2,   8,  12,  96], dtype=int32), array([333,   2,   7,  12,  84], dtype=int32), array([ 6,  3,  6, 10, 60], dtype=int32), array([20, 12,  6, 10, 60], dtype=int32), array([111,  25,   7,  12,  84], dtype=int32), array([312,  32,   7,  12,  84], dtype=int32), array([ 1, 33,  6, 10, 60], dtype=int32), array([60, 39,  6, 10, 60], dtype=int32), array([333,  51,   7,  12,  84], dtype=int32), array([378,  51,   7,  12,  84], dtype=int32), array([189,  59,   8,  12,  96], dtype=int32), array([60, 60,  6, 11, 66], dtype=int32), array([68, 67,  7, 13, 91], dtype=int32), array([264,  79,   8,  12,  96], dtype=int32), array([346,  79,   7,  12,  84], dtype=int32), array([189,  92,   8,  12,  96], dtype=int32), array([85, 96,  8, 12, 96], dtype=int32), array([234,  96,   8,  12,  96], dtype=int32), array([ 59, 111,   8,  12,  96], dtype=int32), array([ 68, 111,  14,  12, 168], dtype=int32), array([146, 116,   7,  13,  91], dtype=int32), array([282, 119,   7,  12,  84], dtype=int32), array([336, 129,   7,  13,  91], dtype=int32), array([139, 136,  12,  22, 264], dtype=int32), array([122, 141,   7,  12,  84], dtype=int32), array([234, 141,   8,  12,  96], dtype=int32), array([293, 141,   7,  12,  84], dtype=int32), array([320, 141,   7,  12,  84], dtype=int32), array([181, 150,   7,  12,  84], dtype=int32), array([116, 154,   7,  12,  84], dtype=int32), array([247, 154,   7,  12,  84], dtype=int32), array([125, 159,   7,  13,  91], dtype=int32), array([151, 159,   8,  13, 104], dtype=int32), array([275, 159,   7,  13,  91], dtype=int32), array([238, 175,   7,  12,  84], dtype=int32), array([ 70, 183,   8,  13, 104], dtype=int32)]\n",
            "filename=996 OS-3.png, count=2, coord=[array([246, 151,  10,  17, 170], dtype=int32), array([231, 155,   9,  16, 144], dtype=int32)]\n",
            "filename=1 OS-1.png, count=1, coord=[array([280,  84,   8,  11,  88], dtype=int32)]\n",
            "filename=1 OS-4.png, count=2, coord=[array([482,  29,  10,  16, 160], dtype=int32), array([  9,  82,  12,  16, 192], dtype=int32)]\n",
            "filename=152 OD-1.png, count=10, coord=[array([480,  34,   9,   9,  81], dtype=int32), array([433,  40,   9,  12, 108], dtype=int32), array([478,  65,   7,  11,  77], dtype=int32), array([487,  76,   7,  11,  77], dtype=int32), array([229,  96,   9,  13, 117], dtype=int32), array([  1, 135,   8,  13, 104], dtype=int32), array([444, 190,   6,  11,  66], dtype=int32), array([416, 212,   8,  12,  96], dtype=int32), array([454, 213,   7,  10,  70], dtype=int32), array([482, 248,   6,   9,  54], dtype=int32)]\n",
            "filename=152 OD-2.png, count=12, coord=[array([320,  21,   7,  11,  77], dtype=int32), array([337,  21,  10,  11, 110], dtype=int32), array([275,  63,   8,  10,  80], dtype=int32), array([491,  67,  11,  15, 165], dtype=int32), array([ 19,  80,   9,  12, 108], dtype=int32), array([125,  88,   6,  10,  60], dtype=int32), array([470, 113,   9,  13, 117], dtype=int32), array([ 91, 123,   6,  10,  60], dtype=int32), array([452, 137,   9,  15, 135], dtype=int32), array([454, 164,   9,  14, 126], dtype=int32), array([468, 248,   8,  10,  80], dtype=int32), array([504, 259,   8,   9,  72], dtype=int32)]\n",
            "filename=152 OD-3.png, count=12, coord=[array([  4,   0,  10,  11, 110], dtype=int32), array([94, 28,  7, 12, 84], dtype=int32), array([278,  32,   8,  12,  96], dtype=int32), array([320,  35,  11,  11, 121], dtype=int32), array([219,  38,   8,  13, 104], dtype=int32), array([379,  58,   8,   8,  64], dtype=int32), array([91, 69,  8, 12, 96], dtype=int32), array([  1, 102,   6,  12,  72], dtype=int32), array([224, 119,   8,  12,  96], dtype=int32), array([482, 123,   7,   9,  63], dtype=int32), array([ 38, 126,   7,   9,  63], dtype=int32), array([413, 136,   7,   9,  63], dtype=int32)]\n",
            "filename=152 OD-4.png, count=15, coord=[array([359,  51,   9,  12, 108], dtype=int32), array([479,  78,   8,  11,  88], dtype=int32), array([236,  81,   8,  11,  88], dtype=int32), array([23, 83,  8, 11, 88], dtype=int32), array([320, 101,   7,  11,  77], dtype=int32), array([275, 117,   8,  10,  80], dtype=int32), array([445, 122,   8,  12,  96], dtype=int32), array([220, 123,   8,  10,  80], dtype=int32), array([180, 126,   7,  10,  70], dtype=int32), array([445, 148,   8,  12,  96], dtype=int32), array([ 42, 160,   8,  10,  80], dtype=int32), array([321, 171,   8,  11,  88], dtype=int32), array([189, 174,   7,  10,  70], dtype=int32), array([500, 228,   9,  12, 108], dtype=int32), array([458, 256,   8,  12,  96], dtype=int32)]\n",
            "filename=152 OD-5.png, count=17, coord=[array([397,   6,   8,  10,  80], dtype=int32), array([101,  39,   9,  13, 117], dtype=int32), array([328,  46,   8,  10,  80], dtype=int32), array([350,  49,   8,  11,  88], dtype=int32), array([365,  65,   8,  10,  80], dtype=int32), array([114,  89,   9,  14, 126], dtype=int32), array([119, 107,   9,  13, 117], dtype=int32), array([185, 115,   8,  10,  80], dtype=int32), array([ 53, 119,   8,  13, 104], dtype=int32), array([496, 130,   8,  10,  80], dtype=int32), array([146, 168,   8,  10,  80], dtype=int32), array([333, 168,   8,  10,  80], dtype=int32), array([ 44, 185,   9,  13, 117], dtype=int32), array([343, 189,   8,  10,  80], dtype=int32), array([478, 189,   8,  10,  80], dtype=int32), array([371, 201,   8,  11,  88], dtype=int32), array([403, 201,   8,  11,  88], dtype=int32)]\n",
            "filename=2 OS-1.png, count=1, coord=[array([128,   2,  12,  15, 180], dtype=int32)]\n",
            "filename=2 OS-2.png, count=1, coord=[array([ 55, 188,   7,  13,  91], dtype=int32)]\n",
            "filename=2 OS-4.png, count=1, coord=[array([211,  68,   8,  14, 112], dtype=int32)]\n",
            "filename=2 OS-5.png, count=2, coord=[array([248,  36,  10,  16, 160], dtype=int32), array([285,  39,   7,  14,  98], dtype=int32)]\n",
            "filename=223 OS-1.png, count=7, coord=[array([146,   7,   8,  10,  80], dtype=int32), array([48, 37,  8, 10, 80], dtype=int32), array([114,  64,   8,  11,  88], dtype=int32), array([435,  64,   8,  11,  88], dtype=int32), array([446,  64,   8,  11,  88], dtype=int32), array([352,  81,   8,  10,  80], dtype=int32), array([411,  93,   8,  11,  88], dtype=int32)]\n",
            "filename=223 OS-2.png, count=12, coord=[array([390,   1,   7,  10,  70], dtype=int32), array([66,  6,  7, 10, 70], dtype=int32), array([156,  12,   7,  10,  70], dtype=int32), array([178,  23,   7,  11,  77], dtype=int32), array([117,  28,   7,  10,  70], dtype=int32), array([274,  28,   7,  10,  70], dtype=int32), array([288,  32,   7,  10,  70], dtype=int32), array([462,  32,   7,  10,  70], dtype=int32), array([456,  50,   8,  10,  80], dtype=int32), array([282,  58,   7,  10,  70], dtype=int32), array([412,  62,   7,  10,  70], dtype=int32), array([397,  70,   7,  10,  70], dtype=int32)]\n",
            "filename=223 OS-4.png, count=8, coord=[array([327,   2,   7,  11,  77], dtype=int32), array([214,   6,   7,  11,  77], dtype=int32), array([268,   6,   7,  11,  77], dtype=int32), array([162,  18,   7,  11,  77], dtype=int32), array([439,  24,   7,  11,  77], dtype=int32), array([38, 56,  7, 12, 84], dtype=int32), array([90, 71,  7, 12, 84], dtype=int32), array([251,  96,   7,  11,  77], dtype=int32)]\n",
            "filename=223 OS-3.png, count=6, coord=[array([188,  13,  10,  13, 130], dtype=int32), array([278,  21,  10,  14, 140], dtype=int32), array([100,  56,  10,  13, 130], dtype=int32), array([ 72,  63,  10,  13, 130], dtype=int32), array([110,  72,   9,  13, 117], dtype=int32), array([237,  80,  10,  14, 140], dtype=int32)]\n",
            "filename=223 OS-5.png, count=8, coord=[array([431,   2,   6,  13,  78], dtype=int32), array([61, 12,  7, 14, 98], dtype=int32), array([289,  12,   6,  14,  84], dtype=int32), array([396,  47,   6,  14,  84], dtype=int32), array([134,  56,   7,  13,  91], dtype=int32), array([480,  85,   6,  11,  66], dtype=int32), array([154,  93,   6,  14,  84], dtype=int32), array([104,  96,   7,  14,  98], dtype=int32)]\n",
            "filename=240 OD-4.png, count=1, coord=[array([258, 168,   7,  11,  77], dtype=int32)]\n",
            "filename=240 OD-5.png, count=2, coord=[array([ 28,  24,   9,  12, 108], dtype=int32), array([173, 118,   9,  12, 108], dtype=int32)]\n",
            "filename=261 OD-1.png, count=1, coord=[array([255,  85,   6,  13,  78], dtype=int32)]\n",
            "filename=261 OD-2.png, count=1, coord=[array([354, 196,  13,  19, 247], dtype=int32)]\n",
            "filename=261 OD-3.png, count=1, coord=[array([307, 104,   9,  15, 135], dtype=int32)]\n",
            "filename=267 OS-1.png, count=1, coord=[array([461,  53,   9,  13, 117], dtype=int32)]\n",
            "filename=261 OD-5.png, count=1, coord=[array([ 96,   1,  12,  11, 132], dtype=int32)]\n",
            "filename=267 OS-3.png, count=2, coord=[array([278, 122,   7,   9,  63], dtype=int32), array([295, 142,   6,  10,  60], dtype=int32)]\n",
            "filename=267 OS-4.png, count=3, coord=[array([ 25, 143,   7,  11,  77], dtype=int32), array([248, 181,   7,  10,  70], dtype=int32), array([286, 191,   7,  10,  70], dtype=int32)]\n",
            "filename=275 OD-3.png, count=1, coord=[array([347, 108,   6,  13,  78], dtype=int32)]\n",
            "filename=275 OD-5.png, count=2, coord=[array([341,  92,   7,  11,  77], dtype=int32), array([367, 119,   7,  11,  77], dtype=int32)]\n",
            "filename=319 OD-3.png, count=1, coord=[array([506,  51,   6,  10,  60], dtype=int32)]\n",
            "filename=352 OS-4.png, count=2, coord=[array([72, 11,  8, 12, 96], dtype=int32), array([266, 149,   6,   9,  54], dtype=int32)]\n",
            "filename=352 OS-1.png, count=2, coord=[array([291,  66,   8,  13, 104], dtype=int32), array([350, 112,   8,  13, 104], dtype=int32)]\n",
            "filename=399 OD-1.png, count=7, coord=[array([160,   0,   6,  11,  66], dtype=int32), array([55, 18,  6, 12, 72], dtype=int32), array([314,  18,   6,  12,  72], dtype=int32), array([218,  23,   7,  12,  84], dtype=int32), array([288,  47,   7,  12,  84], dtype=int32), array([413, 104,   6,  12,  72], dtype=int32), array([123, 138,   6,  12,  72], dtype=int32)]\n",
            "filename=399 OD-2.png, count=2, coord=[array([384,  53,   9,   8,  72], dtype=int32), array([380,  90,   9,   8,  72], dtype=int32)]\n",
            "filename=399 OD-4.png, count=2, coord=[array([16,  6,  7, 11, 77], dtype=int32), array([33, 71,  8, 12, 96], dtype=int32)]\n",
            "filename=399 OD-3.png, count=2, coord=[array([450,  16,   9,  14, 126], dtype=int32), array([439,  51,   9,  14, 126], dtype=int32)]\n",
            "filename=399 OD-5.png, count=2, coord=[array([112,  54,   6,  10,  60], dtype=int32), array([ 25, 134,   5,  11,  55], dtype=int32)]\n",
            "filename=480 OD-1.png, count=1, coord=[array([245, 219,  12,  14, 168], dtype=int32)]\n",
            "filename=480 OD-3.png, count=3, coord=[array([394, 196,   7,  10,  70], dtype=int32), array([391, 208,   6,  10,  60], dtype=int32), array([407, 211,   7,  10,  70], dtype=int32)]\n",
            "filename=480 OD-4.png, count=1, coord=[array([393, 212,   9,  14, 126], dtype=int32)]\n",
            "filename=480 OD-5.png, count=1, coord=[array([381, 219,  11,  18, 198], dtype=int32)]\n",
            "filename=483 OS-2.png, count=2, coord=[array([145,  46,  11,  12, 132], dtype=int32), array([337,  73,  10,  12, 120], dtype=int32)]\n",
            "filename=483 OS-5.png, count=1, coord=[array([357,  12,  13,  16, 208], dtype=int32)]\n",
            "filename=5 OS-2.png, count=1, coord=[array([453,  73,   7,  12,  84], dtype=int32)]\n",
            "filename=694 OS-2.png, count=21, coord=[array([150,   6,   8,  12,  96], dtype=int32), array([384,  33,   8,  12,  96], dtype=int32), array([159,  40,   8,  12,  96], dtype=int32), array([287,  49,  15,  18, 270], dtype=int32), array([318,  52,   8,  12,  96], dtype=int32), array([223,  55,   7,  12,  84], dtype=int32), array([501,  55,   8,  12,  96], dtype=int32), array([497,  74,   8,  12,  96], dtype=int32), array([204,  77,   8,  12,  96], dtype=int32), array([253,  81,   7,  12,  84], dtype=int32), array([121,  92,   7,  12,  84], dtype=int32), array([180,  97,   8,  12,  96], dtype=int32), array([ 17, 111,   8,  12,  96], dtype=int32), array([337, 111,   7,  12,  84], dtype=int32), array([287, 130,   8,  12,  96], dtype=int32), array([296, 130,   8,  12,  96], dtype=int32), array([ 40, 144,   8,  12,  96], dtype=int32), array([131, 148,   8,  12,  96], dtype=int32), array([  1, 163,   8,  12,  96], dtype=int32), array([403, 166,   8,  12,  96], dtype=int32), array([107, 206,   8,  12,  96], dtype=int32)]\n",
            "filename=694 OS-1.png, count=16, coord=[array([121,   6,   9,  10,  90], dtype=int32), array([146,  53,   6,  10,  60], dtype=int32), array([437,  61,   7,  10,  70], dtype=int32), array([371,  66,   7,  10,  70], dtype=int32), array([240,  70,   7,  10,  70], dtype=int32), array([495,  80,   8,  10,  80], dtype=int32), array([142, 102,   7,  10,  70], dtype=int32), array([ 34, 108,   6,  10,  60], dtype=int32), array([331, 118,   7,   9,  63], dtype=int32), array([429, 131,   7,  10,  70], dtype=int32), array([ 14, 143,   6,  10,  60], dtype=int32), array([183, 156,   7,  10,  70], dtype=int32), array([225, 160,   7,   9,  63], dtype=int32), array([388, 171,   8,   9,  72], dtype=int32), array([328, 173,   7,  10,  70], dtype=int32), array([233, 183,   7,  10,  70], dtype=int32)]\n",
            "filename=694 OS-3.png, count=25, coord=[array([363,   0,   8,   9,  72], dtype=int32), array([425,   1,   8,  11,  88], dtype=int32), array([449,  16,   8,  11,  88], dtype=int32), array([174,  29,   7,  11,  77], dtype=int32), array([121,  43,   8,  11,  88], dtype=int32), array([442,  46,   8,  10,  80], dtype=int32), array([285,  51,   7,  10,  70], dtype=int32), array([180,  53,   8,  11,  88], dtype=int32), array([323,  62,   8,  11,  88], dtype=int32), array([413,  69,   8,  10,  80], dtype=int32), array([ 23,  73,  15,  16, 240], dtype=int32), array([40, 73,  7, 10, 70], dtype=int32), array([357,  86,   8,  11,  88], dtype=int32), array([484,  93,   8,  10,  80], dtype=int32), array([496,  93,   7,  10,  70], dtype=int32), array([300, 115,   7,  10,  70], dtype=int32), array([149, 119,   7,  11,  77], dtype=int32), array([484, 119,   8,  11,  88], dtype=int32), array([393, 124,  15,  20, 300], dtype=int32), array([298, 133,   8,  11,  88], dtype=int32), array([463, 133,   8,  11,  88], dtype=int32), array([114, 138,   8,  11,  88], dtype=int32), array([422, 163,   8,  10,  80], dtype=int32), array([ 65, 201,   8,  11,  88], dtype=int32), array([267, 210,   8,  10,  80], dtype=int32)]\n",
            "filename=694 OS-4.png, count=14, coord=[array([167,  29,   8,  12,  96], dtype=int32), array([ 3, 49,  8, 12, 96], dtype=int32), array([249,  69,   8,  12,  96], dtype=int32), array([266,  90,   8,  12,  96], dtype=int32), array([388, 103,   8,  12,  96], dtype=int32), array([457, 106,   8,  12,  96], dtype=int32), array([134, 117,   8,  11,  88], dtype=int32), array([356, 121,   8,  12,  96], dtype=int32), array([507, 121,   5,  12,  60], dtype=int32), array([179, 130,   8,  12,  96], dtype=int32), array([409, 136,   8,  12,  96], dtype=int32), array([249, 140,  12,  23, 276], dtype=int32), array([199, 151,   8,  12,  96], dtype=int32), array([187, 159,   8,  12,  96], dtype=int32)]\n",
            "filename=934 OD-1.png, count=2, coord=[array([122,  22,   9,  13, 117], dtype=int32), array([231,  68,   9,  13, 117], dtype=int32)]\n",
            "filename=694 OS-5.png, count=11, coord=[array([ 32,   2,  10,  10, 100], dtype=int32), array([236,  42,   9,  10,  90], dtype=int32), array([190,  45,  10,  10, 100], dtype=int32), array([306,  52,   7,   8,  56], dtype=int32), array([ 69, 121,  10,  10, 100], dtype=int32), array([401, 137,   7,   9,  63], dtype=int32), array([ 65, 172,  19,  16, 304], dtype=int32), array([494, 172,   7,   9,  63], dtype=int32), array([436, 175,   7,   8,  56], dtype=int32), array([228, 183,   9,  10,  90], dtype=int32), array([297, 189,   9,  11,  99], dtype=int32)]\n",
            "filename=934 OD-2.png, count=2, coord=[array([178,   1,   9,  12, 108], dtype=int32), array([462,  26,   8,  12,  96], dtype=int32)]\n",
            "filename=934 OD-3.png, count=1, coord=[array([94, 44,  8, 10, 80], dtype=int32)]\n",
            "filename=966 OD-1.png, count=3, coord=[array([51, 48,  6, 11, 66], dtype=int32), array([144,  97,   7,  11,  77], dtype=int32), array([354, 144,   7,  11,  77], dtype=int32)]\n",
            "filename=934 OD-5.png, count=3, coord=[array([423,  59,  10,  14, 140], dtype=int32), array([472,  62,  10,  14, 140], dtype=int32), array([295, 102,  10,  13, 130], dtype=int32)]\n",
            "filename=966 OD-2.png, count=1, coord=[array([194,  73,   7,  11,  77], dtype=int32)]\n",
            "filename=966 OD-3.png, count=3, coord=[array([ 12,   9,   9,  14, 126], dtype=int32), array([308,  14,   9,  13, 117], dtype=int32), array([429,  19,  10,  13, 130], dtype=int32)]\n",
            "filename=966 OD-4.png, count=4, coord=[array([148,   3,  12,  22, 264], dtype=int32), array([233,  23,   7,  13,  91], dtype=int32), array([86, 42,  7, 13, 91], dtype=int32), array([323, 130,   6,  13,  78], dtype=int32)]\n",
            "filename=966 OD-5.png, count=2, coord=[array([47,  6,  7, 11, 77], dtype=int32), array([64, 64,  7, 10, 70], dtype=int32)]\n"
          ]
        }
      ],
      "source": [
        "import cv2\n",
        "import os\n",
        "import pandas as pd\n",
        "import numpy as np\n",
        "\n",
        "def find_white_rectangles(image_path):\n",
        "    # Load the image in grayscale\n",
        "    img = cv2.imread(image_path, cv2.IMREAD_GRAYSCALE)\n",
        "\n",
        "    # Threshold the image to separate white regions\n",
        "    _, thresholded = cv2.threshold(img, 150, 255, cv2.THRESH_BINARY)\n",
        "\n",
        "    # Find connected components (white regions) in the thresholded image\n",
        "    num_labels, labels, stats, _ = cv2.connectedComponentsWithStats(thresholded, connectivity=4)\n",
        "\n",
        "    # Filter out small regions (adjust min_size as needed)\n",
        "    min_size = 50  # Minimum size of a rectangle to be considered\n",
        "    valid_rectangles = [stats[i] for i in range(1, num_labels) if stats[i][4] >= min_size]\n",
        "\n",
        "    return valid_rectangles\n",
        "\n",
        "def main(input_dir, output_csv):\n",
        "    data = []\n",
        "\n",
        "    # Iterate through each image file in the input directory\n",
        "    for filename in os.listdir(input_dir):\n",
        "        if filename.endswith(\".png\") or filename.endswith(\".jpg\"):\n",
        "            image_path = os.path.join(input_dir, filename)\n",
        "            rectangles = find_white_rectangles(image_path)\n",
        "            print(f'filename={filename}, count={len(rectangles)}, coord={rectangles}')\n",
        "            data.append([filename, len(rectangles), rectangles])\n",
        "\n",
        "    # Create a DataFrame and save it to a CSV file\n",
        "    df = pd.DataFrame(data, columns=['File Name', 'Number of Rectangles', 'Rectangle Coordinates'])\n",
        "    df.to_csv(output_csv, index=False)\n",
        "\n",
        "if __name__ == \"__main__\":\n",
        "    input_directory = masked_folder  # Change this to your input directory\n",
        "    output_csv_file = \"/content/output.csv\"    # Change this to your desired output CSV file\n",
        "\n",
        "    main(input_directory, output_csv_file)\n"
      ]
    },
    {
      "cell_type": "code",
      "source": [
        "import cv2\n",
        "import os\n",
        "import pandas as pd\n",
        "\n",
        "def find_white_rectangles(image_path):\n",
        "    # Load the image in grayscale\n",
        "    img = cv2.imread(image_path, cv2.IMREAD_GRAYSCALE)\n",
        "\n",
        "    # Threshold the image to separate white regions\n",
        "    _, thresholded = cv2.threshold(img, 200, 255, cv2.THRESH_BINARY)\n",
        "\n",
        "    # Find connected components (white regions) in the thresholded image\n",
        "    num_labels, labels, stats, centroids = cv2.connectedComponentsWithStats(thresholded, connectivity=4)\n",
        "\n",
        "    # Filter out small regions (adjust min_size as needed)\n",
        "    min_size = 25  # Minimum size of a rectangle to be considered\n",
        "    valid_rectangles = []\n",
        "\n",
        "    for i in range(1, num_labels):\n",
        "        if stats[i][4] >= min_size:\n",
        "            # Top-left coordinate\n",
        "            top_left = (stats[i][0], stats[i][1])\n",
        "            # Bottom-right coordinate\n",
        "            bottom_right = (stats[i][0] + stats[i][2], stats[i][1] + stats[i][3])\n",
        "            valid_rectangles.append((top_left, bottom_right))\n",
        "\n",
        "    return valid_rectangles\n",
        "\n",
        "def main(input_dir, output_csv):\n",
        "    data = []\n",
        "\n",
        "    # Get a sorted list of image files in the input directory\n",
        "    image_files = sorted([f for f in os.listdir(input_dir) if f.endswith(\".png\") or f.endswith(\".jpg\")])\n",
        "\n",
        "    # Iterate through each sorted image file\n",
        "    for filename in image_files:\n",
        "        image_path = os.path.join(input_dir, filename)\n",
        "        rectangles = find_white_rectangles(image_path)\n",
        "        print(f'filename={filename}, count={len(rectangles)}, coord={rectangles}')\n",
        "        data.append([filename, len(rectangles), rectangles])\n",
        "\n",
        "    # Create a DataFrame and save it to a CSV file\n",
        "    df = pd.DataFrame(data, columns=['File Name', 'Number of Rectangles', 'Rectangle Coordinates'])\n",
        "    df.to_csv(output_csv, index=False)\n",
        "\n",
        "if __name__ == \"__main__\":\n",
        "    input_directory = masked_folder\n",
        "    output_csv_file = \"output.csv\"\n",
        "\n",
        "    main(input_directory, output_csv_file)\n"
      ],
      "metadata": {
        "colab": {
          "base_uri": "https://localhost:8080/"
        },
        "id": "YcrTheDW1YiZ",
        "outputId": "f6cedc26-d656-4eca-9513-1090d94155c7"
      },
      "execution_count": 11,
      "outputs": [
        {
          "output_type": "stream",
          "name": "stdout",
          "text": [
            "filename=1 OS-1.png, count=1, coord=[((280, 84), (288, 95))]\n",
            "filename=1 OS-4.png, count=2, coord=[((482, 29), (492, 45)), ((9, 82), (21, 98))]\n",
            "filename=152 OD-1.png, count=11, coord=[((480, 34), (489, 43)), ((433, 40), (442, 52)), ((478, 65), (485, 76)), ((487, 76), (494, 87)), ((229, 96), (238, 109)), ((1, 135), (9, 148)), ((444, 190), (450, 201)), ((416, 212), (424, 224)), ((454, 213), (461, 223)), ((482, 248), (488, 257)), ((493, 261), (498, 270))]\n",
            "filename=152 OD-2.png, count=12, coord=[((320, 21), (327, 32)), ((337, 21), (347, 32)), ((275, 63), (283, 73)), ((491, 67), (502, 82)), ((19, 80), (28, 92)), ((125, 88), (131, 98)), ((470, 113), (479, 126)), ((91, 123), (97, 133)), ((452, 137), (461, 152)), ((454, 164), (463, 178)), ((468, 248), (476, 258)), ((504, 259), (512, 268))]\n",
            "filename=152 OD-3.png, count=13, coord=[((4, 0), (14, 11)), ((94, 28), (101, 40)), ((278, 32), (286, 44)), ((320, 35), (331, 46)), ((219, 38), (227, 51)), ((379, 58), (387, 66)), ((91, 69), (99, 81)), ((1, 102), (7, 114)), ((224, 119), (232, 131)), ((482, 123), (489, 132)), ((38, 126), (45, 135)), ((413, 136), (420, 145)), ((474, 138), (479, 146))]\n",
            "filename=152 OD-4.png, count=16, coord=[((359, 51), (368, 63)), ((479, 78), (487, 89)), ((236, 81), (244, 92)), ((23, 83), (31, 94)), ((320, 101), (327, 112)), ((275, 117), (283, 127)), ((445, 122), (453, 134)), ((220, 123), (228, 133)), ((180, 126), (187, 136)), ((445, 148), (453, 160)), ((42, 160), (50, 170)), ((321, 171), (329, 182)), ((189, 174), (196, 184)), ((500, 228), (509, 240)), ((458, 256), (466, 268)), ((487, 304), (491, 312))]\n",
            "filename=152 OD-5.png, count=17, coord=[((397, 6), (405, 16)), ((101, 39), (110, 52)), ((328, 46), (336, 56)), ((350, 49), (358, 60)), ((365, 65), (373, 75)), ((114, 89), (123, 103)), ((119, 107), (128, 120)), ((185, 115), (193, 125)), ((53, 119), (61, 132)), ((496, 130), (504, 140)), ((146, 168), (154, 178)), ((333, 168), (341, 178)), ((44, 185), (53, 198)), ((343, 189), (351, 199)), ((478, 189), (486, 199)), ((371, 201), (379, 212)), ((403, 201), (411, 212))]\n",
            "filename=2 OS-1.png, count=1, coord=[((128, 2), (140, 17))]\n",
            "filename=2 OS-2.png, count=1, coord=[((55, 188), (62, 201))]\n",
            "filename=2 OS-4.png, count=1, coord=[((211, 68), (219, 82))]\n",
            "filename=2 OS-5.png, count=2, coord=[((248, 36), (258, 52)), ((285, 39), (292, 53))]\n",
            "filename=223 OS-1.png, count=7, coord=[((146, 7), (154, 17)), ((48, 37), (56, 47)), ((114, 64), (122, 75)), ((435, 64), (443, 75)), ((446, 64), (454, 75)), ((352, 81), (360, 91)), ((411, 93), (419, 104))]\n",
            "filename=223 OS-2.png, count=12, coord=[((390, 1), (397, 11)), ((66, 6), (73, 16)), ((156, 12), (163, 22)), ((178, 23), (185, 34)), ((117, 28), (124, 38)), ((274, 28), (281, 38)), ((288, 32), (295, 42)), ((462, 32), (469, 42)), ((456, 50), (464, 60)), ((282, 58), (289, 68)), ((412, 62), (419, 72)), ((397, 70), (404, 80))]\n",
            "filename=223 OS-3.png, count=6, coord=[((188, 13), (198, 26)), ((278, 21), (288, 35)), ((100, 56), (110, 69)), ((72, 63), (82, 76)), ((110, 72), (119, 85)), ((237, 80), (247, 94))]\n",
            "filename=223 OS-4.png, count=8, coord=[((327, 2), (334, 13)), ((214, 6), (221, 17)), ((268, 6), (275, 17)), ((162, 18), (169, 29)), ((439, 24), (446, 35)), ((38, 56), (45, 68)), ((90, 71), (97, 83)), ((251, 96), (258, 107))]\n",
            "filename=223 OS-5.png, count=8, coord=[((431, 2), (437, 15)), ((61, 12), (68, 26)), ((289, 12), (295, 26)), ((396, 47), (402, 61)), ((134, 56), (141, 69)), ((480, 85), (486, 96)), ((154, 93), (160, 107)), ((104, 96), (111, 110))]\n",
            "filename=24 OS-1.png, count=3, coord=[((207, 41), (215, 55)), ((322, 43), (335, 63)), ((238, 113), (246, 129))]\n",
            "filename=24 OS-2.png, count=1, coord=[((242, 138), (250, 154))]\n",
            "filename=24 OS-3.png, count=1, coord=[((378, 40), (386, 54))]\n",
            "filename=24 OS-4.png, count=3, coord=[((477, 5), (484, 19)), ((228, 46), (236, 58)), ((397, 100), (405, 114))]\n",
            "filename=24 OS-5.png, count=3, coord=[((52, 52), (58, 63)), ((293, 114), (299, 127)), ((304, 123), (311, 135))]\n",
            "filename=240 OD-4.png, count=1, coord=[((258, 168), (265, 179))]\n",
            "filename=240 OD-5.png, count=2, coord=[((28, 24), (37, 36)), ((173, 118), (182, 130))]\n",
            "filename=261 OD-1.png, count=1, coord=[((255, 85), (261, 98))]\n",
            "filename=261 OD-2.png, count=1, coord=[((354, 196), (367, 215))]\n",
            "filename=261 OD-3.png, count=1, coord=[((307, 104), (316, 119))]\n",
            "filename=261 OD-5.png, count=1, coord=[((96, 1), (108, 12))]\n",
            "filename=267 OS-1.png, count=1, coord=[((461, 53), (470, 66))]\n",
            "filename=267 OS-3.png, count=2, coord=[((278, 122), (285, 131)), ((295, 142), (301, 152))]\n",
            "filename=267 OS-4.png, count=3, coord=[((25, 143), (32, 154)), ((248, 181), (255, 191)), ((286, 191), (293, 201))]\n",
            "filename=275 OD-3.png, count=1, coord=[((347, 108), (353, 121))]\n",
            "filename=275 OD-5.png, count=2, coord=[((341, 92), (348, 103)), ((367, 119), (374, 130))]\n",
            "filename=319 OD-3.png, count=1, coord=[((506, 51), (512, 61))]\n",
            "filename=352 OS-1.png, count=2, coord=[((291, 66), (299, 79)), ((350, 112), (358, 125))]\n",
            "filename=352 OS-4.png, count=2, coord=[((72, 11), (80, 23)), ((266, 149), (272, 158))]\n",
            "filename=357 OD-1.png, count=1, coord=[((265, 112), (274, 127))]\n",
            "filename=357 OD-3.png, count=1, coord=[((68, 8), (76, 21))]\n",
            "filename=357 OD-4.png, count=2, coord=[((3, 156), (11, 168)), ((181, 162), (189, 174))]\n",
            "filename=399 OD-1.png, count=7, coord=[((160, 0), (166, 11)), ((55, 18), (61, 30)), ((314, 18), (320, 30)), ((218, 23), (225, 35)), ((288, 47), (295, 59)), ((413, 104), (419, 116)), ((123, 138), (129, 150))]\n",
            "filename=399 OD-2.png, count=2, coord=[((384, 53), (393, 61)), ((380, 90), (389, 98))]\n",
            "filename=399 OD-3.png, count=2, coord=[((450, 16), (459, 30)), ((439, 51), (448, 65))]\n",
            "filename=399 OD-4.png, count=2, coord=[((16, 6), (23, 17)), ((33, 71), (41, 83))]\n",
            "filename=399 OD-5.png, count=2, coord=[((112, 54), (118, 64)), ((25, 134), (30, 145))]\n",
            "filename=45 OS-1.png, count=39, coord=[((181, 1), (187, 13)), ((350, 1), (358, 15)), ((121, 2), (128, 14)), ((394, 7), (402, 19)), ((10, 10), (17, 22)), ((248, 28), (257, 40)), ((266, 34), (273, 46)), ((118, 47), (124, 57)), ((221, 52), (228, 63)), ((127, 54), (134, 66)), ((194, 54), (202, 65)), ((95, 62), (107, 79)), ((363, 62), (369, 74)), ((273, 63), (282, 74)), ((297, 65), (302, 75)), ((220, 70), (228, 81)), ((51, 73), (59, 86)), ((189, 73), (198, 84)), ((29, 75), (35, 86)), ((277, 83), (285, 94)), ((292, 87), (299, 99)), ((320, 87), (330, 98)), ((130, 88), (137, 104)), ((116, 90), (122, 103)), ((76, 108), (83, 122)), ((199, 114), (207, 129)), ((162, 121), (171, 134)), ((291, 121), (299, 133)), ((355, 123), (363, 135)), ((0, 125), (8, 140)), ((375, 137), (383, 149)), ((136, 142), (142, 153)), ((69, 143), (76, 155)), ((111, 148), (119, 158)), ((276, 150), (285, 162)), ((224, 164), (232, 176)), ((362, 164), (369, 178)), ((206, 165), (215, 176)), ((98, 174), (104, 185))]\n",
            "filename=45 OS-2.png, count=27, coord=[((64, 4), (71, 13)), ((23, 8), (30, 19)), ((113, 8), (120, 19)), ((229, 15), (235, 26)), ((180, 20), (187, 32)), ((325, 22), (336, 37)), ((350, 30), (356, 39)), ((18, 32), (25, 42)), ((271, 38), (278, 49)), ((134, 43), (141, 54)), ((50, 54), (57, 64)), ((154, 54), (161, 64)), ((120, 60), (127, 71)), ((106, 61), (112, 69)), ((332, 72), (339, 82)), ((344, 93), (351, 103)), ((20, 94), (26, 104)), ((27, 97), (38, 118)), ((198, 103), (205, 115)), ((285, 103), (292, 114)), ((218, 111), (225, 122)), ((380, 118), (387, 127)), ((314, 121), (321, 130)), ((250, 128), (256, 139)), ((137, 165), (144, 176)), ((283, 165), (292, 179)), ((16, 188), (22, 199))]\n",
            "filename=45 OS-3.png, count=36, coord=[((202, 2), (210, 14)), ((333, 2), (340, 14)), ((6, 3), (12, 13)), ((20, 12), (26, 22)), ((111, 25), (118, 37)), ((312, 32), (319, 44)), ((1, 33), (7, 43)), ((60, 39), (66, 49)), ((333, 51), (340, 63)), ((378, 51), (385, 63)), ((189, 59), (197, 71)), ((60, 60), (66, 71)), ((68, 67), (75, 80)), ((264, 79), (272, 91)), ((346, 79), (353, 91)), ((189, 92), (197, 104)), ((85, 96), (93, 108)), ((234, 96), (242, 108)), ((59, 111), (67, 123)), ((68, 111), (82, 123)), ((146, 116), (153, 129)), ((282, 119), (289, 131)), ((336, 129), (343, 142)), ((139, 136), (151, 158)), ((122, 141), (129, 153)), ((234, 141), (242, 153)), ((293, 141), (300, 153)), ((320, 141), (327, 153)), ((181, 150), (188, 162)), ((116, 154), (123, 166)), ((247, 154), (254, 166)), ((125, 159), (132, 172)), ((151, 159), (159, 172)), ((275, 159), (282, 172)), ((238, 175), (245, 187)), ((70, 183), (78, 196))]\n",
            "filename=45 OS-4.png, count=43, coord=[((296, 0), (305, 13)), ((367, 5), (374, 15)), ((149, 6), (157, 18)), ((56, 11), (67, 26)), ((130, 11), (138, 24)), ((251, 18), (257, 30)), ((83, 19), (91, 31)), ((115, 19), (123, 31)), ((381, 19), (388, 31)), ((44, 30), (52, 42)), ((151, 33), (157, 43)), ((159, 37), (167, 49)), ((199, 41), (208, 53)), ((229, 41), (238, 53)), ((1, 43), (7, 54)), ((272, 43), (279, 55)), ((186, 45), (196, 57)), ((407, 45), (414, 58)), ((418, 45), (427, 57)), ((352, 50), (358, 61)), ((115, 52), (123, 64)), ((395, 52), (405, 64)), ((104, 58), (111, 69)), ((164, 60), (172, 70)), ((153, 64), (163, 76)), ((82, 72), (92, 84)), ((15, 78), (21, 89)), ((191, 81), (198, 93)), ((213, 83), (223, 95)), ((95, 87), (101, 98)), ((385, 97), (391, 108)), ((64, 101), (70, 112)), ((370, 101), (378, 113)), ((33, 107), (40, 118)), ((149, 117), (157, 131)), ((330, 117), (339, 131)), ((253, 118), (260, 130)), ((32, 130), (42, 142)), ((292, 139), (301, 152)), ((67, 155), (76, 168)), ((259, 161), (267, 173)), ((35, 181), (44, 194)), ((454, 187), (460, 199))]\n",
            "filename=45 OS-5.png, count=14, coord=[((199, 14), (207, 27)), ((8, 21), (16, 32)), ((47, 21), (60, 42)), ((31, 31), (38, 42)), ((106, 33), (114, 45)), ((10, 62), (18, 75)), ((45, 62), (52, 73)), ((92, 73), (99, 84)), ((67, 93), (71, 103)), ((27, 98), (34, 108)), ((18, 116), (31, 132)), ((141, 126), (149, 139)), ((66, 128), (73, 139)), ((14, 133), (21, 144))]\n",
            "filename=480 OD-1.png, count=1, coord=[((245, 219), (257, 233))]\n",
            "filename=480 OD-3.png, count=3, coord=[((394, 196), (401, 206)), ((391, 208), (397, 218)), ((407, 211), (414, 221))]\n",
            "filename=480 OD-4.png, count=1, coord=[((393, 212), (402, 226))]\n",
            "filename=480 OD-5.png, count=1, coord=[((381, 219), (392, 237))]\n",
            "filename=483 OS-2.png, count=2, coord=[((145, 46), (156, 58)), ((337, 73), (347, 85))]\n",
            "filename=483 OS-5.png, count=1, coord=[((357, 12), (370, 28))]\n",
            "filename=5 OS-2.png, count=1, coord=[((453, 73), (460, 85))]\n",
            "filename=690 OS-1.png, count=1, coord=[((362, 138), (371, 152))]\n",
            "filename=694 OS-1.png, count=16, coord=[((121, 6), (130, 16)), ((146, 53), (152, 63)), ((437, 61), (444, 71)), ((371, 66), (378, 76)), ((240, 70), (247, 80)), ((495, 80), (503, 90)), ((142, 102), (149, 112)), ((34, 108), (40, 118)), ((331, 118), (338, 127)), ((429, 131), (436, 141)), ((14, 143), (20, 153)), ((183, 156), (190, 166)), ((225, 160), (232, 169)), ((388, 171), (396, 180)), ((328, 173), (335, 183)), ((233, 183), (240, 193))]\n",
            "filename=694 OS-2.png, count=21, coord=[((150, 6), (158, 18)), ((384, 33), (392, 45)), ((159, 40), (167, 52)), ((287, 49), (302, 67)), ((318, 52), (326, 64)), ((223, 55), (230, 67)), ((501, 55), (509, 67)), ((497, 74), (505, 86)), ((204, 77), (212, 89)), ((253, 81), (260, 93)), ((121, 92), (128, 104)), ((180, 97), (188, 109)), ((17, 111), (25, 123)), ((337, 111), (344, 123)), ((287, 130), (295, 142)), ((296, 130), (304, 142)), ((40, 144), (48, 156)), ((131, 148), (139, 160)), ((1, 163), (9, 175)), ((403, 166), (411, 178)), ((107, 206), (115, 218))]\n",
            "filename=694 OS-3.png, count=25, coord=[((363, 0), (371, 9)), ((425, 1), (433, 12)), ((449, 16), (457, 27)), ((174, 29), (181, 40)), ((121, 43), (129, 54)), ((442, 46), (450, 56)), ((285, 51), (292, 61)), ((180, 53), (188, 64)), ((323, 62), (331, 73)), ((413, 69), (421, 79)), ((23, 73), (38, 89)), ((40, 73), (47, 83)), ((357, 86), (365, 97)), ((484, 93), (492, 103)), ((496, 93), (503, 103)), ((300, 115), (307, 125)), ((149, 119), (156, 130)), ((484, 119), (492, 130)), ((393, 124), (408, 144)), ((298, 133), (306, 144)), ((463, 133), (471, 144)), ((114, 138), (122, 149)), ((422, 163), (430, 173)), ((65, 201), (73, 212)), ((267, 210), (275, 220))]\n",
            "filename=694 OS-4.png, count=14, coord=[((167, 29), (175, 41)), ((3, 49), (11, 61)), ((249, 69), (257, 81)), ((266, 90), (274, 102)), ((388, 103), (396, 115)), ((457, 106), (465, 118)), ((134, 117), (142, 128)), ((356, 121), (364, 133)), ((507, 121), (512, 133)), ((179, 130), (187, 142)), ((409, 136), (417, 148)), ((249, 140), (261, 163)), ((199, 151), (207, 163)), ((187, 159), (195, 171))]\n",
            "filename=694 OS-5.png, count=11, coord=[((32, 2), (42, 12)), ((236, 42), (245, 52)), ((190, 45), (200, 55)), ((306, 52), (313, 60)), ((69, 121), (79, 131)), ((401, 137), (408, 146)), ((65, 172), (84, 188)), ((494, 172), (501, 181)), ((436, 175), (443, 183)), ((228, 183), (237, 193)), ((297, 189), (306, 200))]\n",
            "filename=934 OD-1.png, count=2, coord=[((122, 22), (131, 35)), ((231, 68), (240, 81))]\n",
            "filename=934 OD-2.png, count=2, coord=[((178, 1), (187, 13)), ((462, 26), (470, 38))]\n",
            "filename=934 OD-3.png, count=1, coord=[((94, 44), (102, 54))]\n",
            "filename=934 OD-5.png, count=3, coord=[((423, 59), (433, 73)), ((472, 62), (482, 76)), ((295, 102), (305, 115))]\n",
            "filename=966 OD-1.png, count=3, coord=[((51, 48), (57, 59)), ((144, 97), (151, 108)), ((354, 144), (361, 155))]\n",
            "filename=966 OD-2.png, count=1, coord=[((194, 73), (201, 84))]\n",
            "filename=966 OD-3.png, count=3, coord=[((12, 9), (21, 23)), ((308, 14), (317, 27)), ((429, 19), (439, 32))]\n",
            "filename=966 OD-4.png, count=4, coord=[((148, 3), (160, 25)), ((233, 23), (240, 36)), ((86, 42), (93, 55)), ((323, 130), (329, 143))]\n",
            "filename=966 OD-5.png, count=2, coord=[((47, 6), (54, 17)), ((64, 64), (71, 74))]\n",
            "filename=996 OS-3.png, count=2, coord=[((246, 151), (256, 168)), ((231, 155), (240, 171))]\n"
          ]
        }
      ]
    }
  ]
}